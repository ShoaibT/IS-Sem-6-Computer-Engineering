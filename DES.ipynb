{
 "cells": [
  {
   "cell_type": "code",
   "execution_count": 1,
   "id": "34a872df-c7e0-4a21-bb69-1a0090e8d69b",
   "metadata": {},
   "outputs": [
    {
     "name": "stdout",
     "output_type": "stream",
     "text": [
      "Requirement already satisfied: PyCryptoDome in c:\\users\\mts\\appdata\\local\\programs\\python\\python311\\lib\\site-packages (3.20.0)\n",
      "Note: you may need to restart the kernel to use updated packages.\n"
     ]
    }
   ],
   "source": [
    "pip install PyCryptoDome"
   ]
  },
  {
   "cell_type": "code",
   "execution_count": 2,
   "id": "36c3c21a-8d45-4b04-b611-6d8b173ade55",
   "metadata": {},
   "outputs": [],
   "source": [
    "from Crypto.Cipher import DES"
   ]
  },
  {
   "cell_type": "code",
   "execution_count": 3,
   "id": "47fdaff2-d0dd-4c9b-bd79-4b60759ca178",
   "metadata": {},
   "outputs": [],
   "source": [
    "from secrets import token_bytes"
   ]
  },
  {
   "cell_type": "code",
   "execution_count": 10,
   "id": "6f8feca2-b7af-42ec-b8f3-d3ae8d4764e2",
   "metadata": {},
   "outputs": [
    {
     "name": "stdin",
     "output_type": "stream",
     "text": [
      "Enter Plain text which need to be encrypted:  Shoaib\n"
     ]
    },
    {
     "name": "stdout",
     "output_type": "stream",
     "text": [
      "Cipher Text: b'\\xddhm,\\xc7\\x88'\n",
      "Plain text: Shoaib\n"
     ]
    }
   ],
   "source": [
    "key = token_bytes(8)\n",
    "def encrypt(msg):\n",
    "    cipher = DES.new(key,DES.MODE_EAX)\n",
    "    nonce = cipher.nonce\n",
    "    ciphertext, tag = cipher.encrypt_and_digest(msg.encode('ascii'))\n",
    "    return nonce, ciphertext, tag\n",
    "\n",
    "def decrypt(nonce, ciphertext, tag):\n",
    "    cipher = DES.new(key,DES.MODE_EAX, nonce=nonce)\n",
    "    plaintext = cipher.decrypt(ciphertext)\n",
    "\n",
    "    try:\n",
    "        cipher.verify(tag)\n",
    "        return plaintext.decode('ascii')\n",
    "    except:\n",
    "        return False\n",
    "\n",
    "nonce, ciphertext, tag = encrypt(input('Enter Plain text which need to be encrypted: '))\n",
    "plaintext = decrypt(nonce,ciphertext,tag)\n",
    "print(f'Cipher Text: {ciphertext}')\n",
    "\n",
    "if not plaintext:\n",
    "    print('Message is Corupted')\n",
    "else:\n",
    "    print(f'Plain text: {plaintext}')\n",
    "\n",
    "    "
   ]
  },
  {
   "cell_type": "code",
   "execution_count": 13,
   "id": "86b94008-66a1-4fda-837b-40c97a331870",
   "metadata": {},
   "outputs": [
    {
     "name": "stdin",
     "output_type": "stream",
     "text": [
      "Enter Plain text which need to be encrypted:  Shoaib\n"
     ]
    },
    {
     "name": "stdout",
     "output_type": "stream",
     "text": [
      "Cipher Text: b'\\xeb\\x83\\x99\\x18\\xde-'\n",
      "Plain text: Shoaib\n"
     ]
    }
   ],
   "source": [
    "nonce, ciphertext, tag = encrypt(input('Enter Plain text which need to be encrypted: '))\n",
    "plaintext = decrypt(nonce,ciphertext,tag)\n",
    "print(f'Cipher Text: {ciphertext}')\n",
    "\n",
    "if not plaintext:\n",
    "    print('Message is Corupted')\n",
    "else:\n",
    "    print(f'Plain text: {plaintext}')\n"
   ]
  },
  {
   "cell_type": "code",
   "execution_count": null,
   "id": "5108e9b2-2a92-4252-b2c0-d2a323f2bf2d",
   "metadata": {},
   "outputs": [],
   "source": []
  }
 ],
 "metadata": {
  "kernelspec": {
   "display_name": "Python 3 (ipykernel)",
   "language": "python",
   "name": "python3"
  },
  "language_info": {
   "codemirror_mode": {
    "name": "ipython",
    "version": 3
   },
   "file_extension": ".py",
   "mimetype": "text/x-python",
   "name": "python",
   "nbconvert_exporter": "python",
   "pygments_lexer": "ipython3",
   "version": "3.11.2"
  },
  "widgets": {
   "application/vnd.jupyter.widget-state+json": {
    "state": {},
    "version_major": 2,
    "version_minor": 0
   }
  }
 },
 "nbformat": 4,
 "nbformat_minor": 5
}
