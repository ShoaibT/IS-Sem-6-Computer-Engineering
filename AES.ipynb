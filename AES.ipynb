{
 "cells": [
  {
   "cell_type": "code",
   "execution_count": 1,
   "id": "eec4608c-daa7-4342-b70e-ab43de1b1dcc",
   "metadata": {},
   "outputs": [
    {
     "name": "stdout",
     "output_type": "stream",
     "text": [
      "Requirement already satisfied: PyCryptoDome in c:\\users\\mts\\appdata\\local\\programs\\python\\python311\\lib\\site-packages (3.20.0)\n",
      "Note: you may need to restart the kernel to use updated packages.\n"
     ]
    }
   ],
   "source": [
    "pip install PyCryptoDome"
   ]
  },
  {
   "cell_type": "code",
   "execution_count": 2,
   "id": "81b5ad07-3069-4500-8e38-3bb348591ba8",
   "metadata": {},
   "outputs": [],
   "source": [
    "from Crypto.Cipher import AES\n",
    "from secrets import token_bytes"
   ]
  },
  {
   "cell_type": "code",
   "execution_count": 4,
   "id": "fc7bc85d-3017-49e9-8cb1-bd99927bc2fd",
   "metadata": {},
   "outputs": [
    {
     "name": "stdin",
     "output_type": "stream",
     "text": [
      "Enter Message:  Shoaib\n"
     ]
    },
    {
     "name": "stdout",
     "output_type": "stream",
     "text": [
      "Cipher Text: b\"\\xc7\\xf0\\x10\\xd8\\xfb'\"\n",
      "Plain text : Shoaib\n"
     ]
    }
   ],
   "source": [
    "key = token_bytes(16)\n",
    "\n",
    "def encrypt(msg):\n",
    "    cipher = AES.new(key,AES.MODE_EAX)\n",
    "    nonce = cipher.nonce\n",
    "    ciphertext, tag = cipher.encrypt_and_digest(msg.encode('ascii'))\n",
    "    return nonce, ciphertext, tag\n",
    "\n",
    "def decrypt(nonce, ciphertext, tag):\n",
    "    cipher = AES.new(key, AES.MODE_EAX, nonce = nonce)\n",
    "    plaintext = cipher.decrypt(ciphertext)\n",
    "    try:\n",
    "        cipher.verify(tag)\n",
    "        return plaintext.decode('ascii')\n",
    "    except:\n",
    "       return False\n",
    "\n",
    "nonce, ciphertext, tag = encrypt(input('Enter Message: '))\n",
    "plaintext = decrypt(nonce, ciphertext, tag)\n",
    "print(f'Cipher Text: {ciphertext}')\n",
    "\n",
    "if not plaintext:\n",
    "    print('Message corupted')\n",
    "else:\n",
    "    print(f'Plain text : {plaintext}')"
   ]
  },
  {
   "cell_type": "code",
   "execution_count": null,
   "id": "4374b118-9212-46d6-8072-07e1ab7dfaa1",
   "metadata": {},
   "outputs": [],
   "source": []
  }
 ],
 "metadata": {
  "kernelspec": {
   "display_name": "Python 3 (ipykernel)",
   "language": "python",
   "name": "python3"
  },
  "language_info": {
   "codemirror_mode": {
    "name": "ipython",
    "version": 3
   },
   "file_extension": ".py",
   "mimetype": "text/x-python",
   "name": "python",
   "nbconvert_exporter": "python",
   "pygments_lexer": "ipython3",
   "version": "3.11.2"
  },
  "widgets": {
   "application/vnd.jupyter.widget-state+json": {
    "state": {},
    "version_major": 2,
    "version_minor": 0
   }
  }
 },
 "nbformat": 4,
 "nbformat_minor": 5
}
